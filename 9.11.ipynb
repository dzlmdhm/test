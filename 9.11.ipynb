{
 "cells": [
  {
   "cell_type": "markdown",
   "metadata": {},
   "source": [
    "# 数学函数、字符串和对象\n",
    "## 本章介绍Python函数来执行常见的数学运算\n",
    "- 函数是完成一个特殊任务的一组语句，可以理解为一个函数相当于一个小功能，但是在开发中，需要注意一个函数的长度最好不要超过一屏\n",
    "- Python中的内置函数是不需要Import导入的\n",
    "<img src=\"../Photo/15.png\"></img>"
   ]
  },
  {
   "cell_type": "code",
   "execution_count": 1,
   "metadata": {},
   "outputs": [
    {
     "data": {
      "text/plain": [
       "2"
      ]
     },
     "execution_count": 1,
     "metadata": {},
     "output_type": "execute_result"
    }
   ],
   "source": [
    "abs(-2)"
   ]
  },
  {
   "cell_type": "code",
   "execution_count": 2,
   "metadata": {},
   "outputs": [
    {
     "data": {
      "text/plain": [
       "4"
      ]
     },
     "execution_count": 2,
     "metadata": {},
     "output_type": "execute_result"
    }
   ],
   "source": [
    "max([1,2,3,4])"
   ]
  },
  {
   "cell_type": "code",
   "execution_count": 3,
   "metadata": {},
   "outputs": [
    {
     "data": {
      "text/plain": [
       "4"
      ]
     },
     "execution_count": 3,
     "metadata": {},
     "output_type": "execute_result"
    }
   ],
   "source": [
    "max(1,2,3,4)"
   ]
  },
  {
   "cell_type": "code",
   "execution_count": 4,
   "metadata": {},
   "outputs": [
    {
     "data": {
      "text/plain": [
       "'c'"
      ]
     },
     "execution_count": 4,
     "metadata": {},
     "output_type": "execute_result"
    }
   ],
   "source": [
    "max('a','b','c','A')"
   ]
  },
  {
   "cell_type": "code",
   "execution_count": 5,
   "metadata": {},
   "outputs": [
    {
     "data": {
      "text/plain": [
       "'r'"
      ]
     },
     "execution_count": 5,
     "metadata": {},
     "output_type": "execute_result"
    }
   ],
   "source": [
    "max('abcdr')"
   ]
  },
  {
   "cell_type": "code",
   "execution_count": 6,
   "metadata": {},
   "outputs": [
    {
     "ename": "TypeError",
     "evalue": "'int' object is not iterable",
     "output_type": "error",
     "traceback": [
      "\u001b[1;31m---------------------------------------------------------------------------\u001b[0m",
      "\u001b[1;31mTypeError\u001b[0m                                 Traceback (most recent call last)",
      "\u001b[1;32m<ipython-input-6-5e3c011cc9fd>\u001b[0m in \u001b[0;36m<module>\u001b[1;34m()\u001b[0m\n\u001b[1;32m----> 1\u001b[1;33m \u001b[0mmax\u001b[0m\u001b[1;33m(\u001b[0m\u001b[1;36m1\u001b[0m\u001b[1;33m)\u001b[0m\u001b[1;33m\u001b[0m\u001b[0m\n\u001b[0m",
      "\u001b[1;31mTypeError\u001b[0m: 'int' object is not iterable"
     ]
    }
   ],
   "source": [
    "max(1)#1整形不能迭代"
   ]
  },
  {
   "cell_type": "code",
   "execution_count": 7,
   "metadata": {},
   "outputs": [
    {
     "data": {
      "text/plain": [
       "4"
      ]
     },
     "execution_count": 7,
     "metadata": {},
     "output_type": "execute_result"
    }
   ],
   "source": [
    "max(1,2,3,4)"
   ]
  },
  {
   "cell_type": "code",
   "execution_count": 8,
   "metadata": {},
   "outputs": [
    {
     "data": {
      "text/plain": [
       "0"
      ]
     },
     "execution_count": 8,
     "metadata": {},
     "output_type": "execute_result"
    }
   ],
   "source": [
    "pow(2,2,2)#幂取完再取余"
   ]
  },
  {
   "cell_type": "code",
   "execution_count": 9,
   "metadata": {},
   "outputs": [
    {
     "data": {
      "text/plain": [
       "4"
      ]
     },
     "execution_count": 9,
     "metadata": {},
     "output_type": "execute_result"
    }
   ],
   "source": [
    "pow(2,2)#取幂"
   ]
  },
  {
   "cell_type": "code",
   "execution_count": 10,
   "metadata": {},
   "outputs": [
    {
     "name": "stdout",
     "output_type": "stream",
     "text": [
      "输入三个数字以,分隔1,2,3\n",
      "请选择你要执行的方式:max,min,pow2_summax\n",
      "3\n"
     ]
    }
   ],
   "source": [
    "a,b,c = eval(input('输入三个数字以,分隔'))\n",
    "choose_method = input('请选择你要执行的方式:max,min,pow2_sum')\n",
    "if choose_method == 'max':\n",
    "    max_= max(a,b,c)\n",
    "    print(max_)\n",
    "elif choose_method == 'min':\n",
    "    min_ = min(a,b,c)\n",
    "    print(min_)\n",
    "elif choose_method == 'pow2_sum':\n",
    "    pow_sum_ = pow(a,2) + pow(b,2) + pow(c,2)\n",
    "    print(pow_sum_)"
   ]
  },
  {
   "cell_type": "markdown",
   "metadata": {},
   "source": [
    "## 尝试练习Python内置函数"
   ]
  },
  {
   "cell_type": "markdown",
   "metadata": {},
   "source": [
    "## Python中的math模块提供了许多数学函数\n",
    "<img src=\"../Photo/16.png\"></img>\n",
    "<img src=\"../Photo/17.png\"></img>\n"
   ]
  },
  {
   "cell_type": "code",
   "execution_count": 11,
   "metadata": {},
   "outputs": [
    {
     "data": {
      "text/plain": [
       "1.0"
      ]
     },
     "execution_count": 11,
     "metadata": {},
     "output_type": "execute_result"
    }
   ],
   "source": [
    "import math\n",
    "math.fabs(-1.0)"
   ]
  },
  {
   "cell_type": "code",
   "execution_count": 12,
   "metadata": {},
   "outputs": [
    {
     "data": {
      "text/plain": [
       "2"
      ]
     },
     "execution_count": 12,
     "metadata": {},
     "output_type": "execute_result"
    }
   ],
   "source": [
    "math.ceil(1.3)"
   ]
  },
  {
   "cell_type": "code",
   "execution_count": 13,
   "metadata": {},
   "outputs": [
    {
     "data": {
      "text/plain": [
       "0"
      ]
     },
     "execution_count": 13,
     "metadata": {},
     "output_type": "execute_result"
    }
   ],
   "source": [
    "math.floor(0.9)"
   ]
  },
  {
   "cell_type": "code",
   "execution_count": 14,
   "metadata": {},
   "outputs": [
    {
     "data": {
      "text/plain": [
       "7.38905609893065"
      ]
     },
     "execution_count": 14,
     "metadata": {},
     "output_type": "execute_result"
    }
   ],
   "source": [
    "math.exp(2)"
   ]
  },
  {
   "cell_type": "code",
   "execution_count": 3,
   "metadata": {},
   "outputs": [
    {
     "data": {
      "image/png": "[encoded data removed]",
      "text/plain": [
       "<matplotlib.figure.Figure at 0x69c7250>"
      ]
     },
     "metadata": {},
     "output_type": "display_data"
    }
   ],
   "source": [
    "import math\n",
    "import matplotlib.pyplot as plt\n",
    "list_ = [ ]\n",
    "for z in range(-50,50):\n",
    "    res = 1./ (1. + math.exp(-z))\n",
    "    list_.append(res)\n",
    "plt.plot(list_)\n",
    "plt.show()"
   ]
  },
  {
   "cell_type": "code",
   "execution_count": 3,
   "metadata": {},
   "outputs": [
    {
     "data": {
      "text/plain": [
       "0.5000187268701805"
      ]
     },
     "execution_count": 3,
     "metadata": {},
     "output_type": "execute_result"
    }
   ],
   "source": [
    "import math\n",
    "import random\n",
    "random_num = random.random() / 2550\n",
    "res = 1./ (1. + math.exp(-random_num))\n",
    "res"
   ]
  },
  {
   "cell_type": "code",
   "execution_count": 4,
   "metadata": {},
   "outputs": [
    {
     "data": {
      "text/plain": [
       "1.5707963267948966"
      ]
     },
     "execution_count": 4,
     "metadata": {},
     "output_type": "execute_result"
    }
   ],
   "source": [
    "math.radians(90)"
   ]
  },
  {
   "cell_type": "code",
   "execution_count": 18,
   "metadata": {},
   "outputs": [
    {
     "data": {
      "text/plain": [
       "<matplotlib.image.AxesImage at 0x7cc9210>"
      ]
     },
     "execution_count": 18,
     "metadata": {},
     "output_type": "execute_result"
    },
    {
     "data": {
      "image/png": "[encoded data removed]",
      "text/plain": [
       "<matplotlib.figure.Figure at 0x7be4510>"
      ]
     },
     "metadata": {},
     "output_type": "display_data"
    }
   ],
   "source": [
    "import math\n",
    "import matplotlib.pyplot as plt\n",
    "image = plt.imread('/Users/kl/Pictures/21.jpg ')\n",
    "plt.imshow(image)#image / math.sin(90)\n"
   ]
  },
  {
   "cell_type": "markdown",
   "metadata": {},
   "source": [
    "## 两个数学常量PI和e，可以通过使用math.pi 和math.e调用"
   ]
  },
  {
   "cell_type": "markdown",
   "metadata": {},
   "source": [
    "## EP:\n",
    "- 通过math库，写一个程序，使得用户输入三个顶点(x,y)返回三个角度\n",
    "- 注意：Python计算角度为弧度制，需要将其转换为角度\n",
    "<img src=\"../Photo/18.png\">"
   ]
  },
  {
   "cell_type": "code",
   "execution_count": 16,
   "metadata": {},
   "outputs": [
    {
     "name": "stdout",
     "output_type": "stream",
     "text": [
      "0,0,0,1,1,0\n",
      "90.00000000000001 44.999999999999986 69.29518894536457\n"
     ]
    }
   ],
   "source": [
    "import math\n",
    "x1,y1,x2,y2,x3,y3 = eval(input(''))\n",
    "a = math.sqrt((x2-x3)**2 + (y2-y3)**2)\n",
    "b = math.sqrt((x1-x3)**2 + (y1-y3)**2)\n",
    "c = math.sqrt((x1-x2)**2 + (y1-y2)**2)\n",
    "A = math.acos((a*a - b*b - c*c) / (-2 * b * c))\n",
    "B = math.acos((b*b - a*a - c*c) / (-2 * a * c))\n",
    "C = math.acos((c*c - b*b - c*c) / (-2 * a * b))\n",
    "print(math.degrees(A),math.degrees(B),math.degrees(C))"
   ]
  },
  {
   "cell_type": "markdown",
   "metadata": {},
   "source": [
    "## 字符串和字符\n",
    "- 在Python中，字符串必须是在单引号或者双引号内，在多段换行的字符串中可以使用“”“\n",
    "- 在使用”“”时，给予其变量则变为字符串，否则当多行注释使用"
   ]
  },
  {
   "cell_type": "code",
   "execution_count": null,
   "metadata": {},
   "outputs": [],
   "source": [
    "\"\"\"在Python中，字符串必须是在单引号或者双引号内，在多段换行的字符串中可以使用\"\"\"#前面3个引号，加后面三个引号，就可以实现多行引号的作用，也可以用来当做多行注释"
   ]
  },
  {
   "cell_type": "markdown",
   "metadata": {},
   "source": [
    "## ASCII码与Unicode码\n",
    "- <img src=\"../Photo/19.png\"></img>\n",
    "- <img src=\"../Photo/20.png\"></img>\n",
    "- <img src=\"../Photo/21.png\"></img>"
   ]
  },
  {
   "cell_type": "markdown",
   "metadata": {},
   "source": [
    "## 函数ord、chr\n",
    "- ord 返回ASCII码值\n",
    "- chr 返回字符"
   ]
  },
  {
   "cell_type": "code",
   "execution_count": 1,
   "metadata": {},
   "outputs": [
    {
     "data": {
      "text/plain": [
       "97"
      ]
     },
     "execution_count": 1,
     "metadata": {},
     "output_type": "execute_result"
    }
   ],
   "source": [
    "ord('a')"
   ]
  },
  {
   "cell_type": "code",
   "execution_count": 2,
   "metadata": {},
   "outputs": [
    {
     "data": {
      "text/plain": [
       "'a'"
      ]
     },
     "execution_count": 2,
     "metadata": {},
     "output_type": "execute_result"
    }
   ],
   "source": [
    "chr(97)"
   ]
  },
  {
   "cell_type": "code",
   "execution_count": 4,
   "metadata": {},
   "outputs": [
    {
     "data": {
      "text/plain": [
       "26446"
      ]
     },
     "execution_count": 4,
     "metadata": {},
     "output_type": "execute_result"
    }
   ],
   "source": [
    "ord('李')#unicode"
   ]
  },
  {
   "cell_type": "code",
   "execution_count": 6,
   "metadata": {},
   "outputs": [
    {
     "data": {
      "text/plain": [
       "'李'"
      ]
     },
     "execution_count": 6,
     "metadata": {},
     "output_type": "execute_result"
    }
   ],
   "source": [
    "chr(26446)"
   ]
  },
  {
   "cell_type": "code",
   "execution_count": 7,
   "metadata": {},
   "outputs": [
    {
     "data": {
      "text/plain": [
       "'k'"
      ]
     },
     "execution_count": 7,
     "metadata": {},
     "output_type": "execute_result"
    }
   ],
   "source": [
    "chr(ord('a') + 10)"
   ]
  },
  {
   "cell_type": "code",
   "execution_count": 8,
   "metadata": {
    "scrolled": true
   },
   "outputs": [
    {
     "data": {
      "text/plain": [
       "32"
      ]
     },
     "execution_count": 8,
     "metadata": {},
     "output_type": "execute_result"
    }
   ],
   "source": [
    "ord(' ')#space 空格"
   ]
  },
  {
   "cell_type": "code",
   "execution_count": 11,
   "metadata": {},
   "outputs": [
    {
     "name": "stdout",
     "output_type": "stream",
     "text": [
      "N\n",
      "X\n",
      "X\n",
      "*\n",
      "l\n",
      "\n",
      "*\n",
      "R\n"
     ]
    }
   ],
   "source": [
    "title = 'DNN by H'\n",
    "for i in title:\n",
    "    print (chr(ord(i) + 10))"
   ]
  },
  {
   "cell_type": "markdown",
   "metadata": {},
   "source": [
    "## EP:\n",
    "- 利用ord与chr进行简单邮箱加密"
   ]
  },
  {
   "cell_type": "code",
   "execution_count": 24,
   "metadata": {},
   "outputs": [
    {
     "name": "stdout",
     "output_type": "stream",
     "text": [
      ";AB>CB:>@:J{{8myw"
     ]
    }
   ],
   "source": [
    "mail = '1784980460@qq.com'#打印出来是横向的\n",
    "for m in mail:\n",
    "    print(chr(ord(m) + 10),end = '')"
   ]
  },
  {
   "cell_type": "code",
   "execution_count": 26,
   "metadata": {},
   "outputs": [
    {
     "name": "stdout",
     "output_type": "stream",
     "text": [
      ";AB>CB:>@:J{{8myw\n"
     ]
    }
   ],
   "source": [
    "mail = '1784980460@qq.com'\n",
    "result = ''\n",
    "for m in mail:\n",
    "    result = result + chr(ord(m) + 10)\n",
    "print(result)"
   ]
  },
  {
   "cell_type": "code",
   "execution_count": 33,
   "metadata": {},
   "outputs": [
    {
     "name": "stdout",
     "output_type": "stream",
     "text": [
      "MD5加密前为 ： this is a md5 test\n",
      "MD5加密后为 ： 2accb8ae19138b5de45a0e71e1ac3482\n"
     ]
    }
   ],
   "source": [
    "import hashlib\n",
    "\n",
    "#带加密信息\n",
    "str_ = 'this is a md5 test'\n",
    "#创建md5对象\n",
    "h1 = hashlib.md5()\n",
    "#此处必须声明encoding\n",
    "# h1.update(str_.encode(encoding='utf-8'))\n",
    "print('MD5加密前为 ： ' + str_)\n",
    "print('MD5加密后为 ： ' + h1.hexdigest())"
   ]
  },
  {
   "cell_type": "code",
   "execution_count": 7,
   "metadata": {},
   "outputs": [
    {
     "name": "stdout",
     "output_type": "stream",
     "text": [
      "MD5加密前为 ： lihuohuo \n",
      "MD5加密后为 ： d41d8cd98f00b204e9800998ecf8427e\n"
     ]
    }
   ],
   "source": [
    "import hashlib\n",
    "\n",
    "#带加密信息\n",
    "str_ = 'lihuohuo '\n",
    "#创建md5对象\n",
    "h1 = hashlib.md5()\n",
    "#此处必须声明encoding\n",
    "# h1.update(str_.encode(encoding='utf-8'))\n",
    "print('MD5加密前为 ： ' + str_)\n",
    "print('MD5加密后为 ： ' + h1.hexdigest())"
   ]
  },
  {
   "cell_type": "code",
   "execution_count": 8,
   "metadata": {},
   "outputs": [
    {
     "name": "stdout",
     "output_type": "stream",
     "text": [
      "请输入加密前的字符串lihuohuo\n",
      "faild\n"
     ]
    }
   ],
   "source": [
    "import hashlib\n",
    "\n",
    "# 待加密信息\n",
    "str = 'lihuohuo'\n",
    "# 创建md5对象\n",
    "hl = hashlib.md5()\n",
    "ha = hashlib.md5()\n",
    "hl.update(str.encode(encoding='utf-8'))\n",
    "print('MD5加密前为 ：' + str)\n",
    "print('MD5加密后为 ：' + hl.hexdigest())\n",
    "dataset = 'e5f3e4ce6b607673710077b092a49fad'\n",
    "password = input(\"请输入认证字符串：\")\n",
    "ha.update(qianming.encode(encoding='utf-8'))\n",
    "print(ha.hexdigest())\n",
    "if dataset == ha.hexdigest():\n",
    "    print(\"认证成功\")\n",
    "else:\n",
    "    print(\"认证失败！\")"
   ]
  },
  {
   "cell_type": "markdown",
   "metadata": {},
   "source": [
    "## 转义序列 \\\n",
    "- a = \"He said,\"Johon's program is easy to read\"\n",
    "- 转掉它原来的意思\n",
    "- 一般情况下只有当语句与默认方法相撞的时候，就需要转义"
   ]
  },
  {
   "cell_type": "code",
   "execution_count": 32,
   "metadata": {},
   "outputs": [],
   "source": [
    "a = \"He said,\\\"Johon's program is easy to read\""
   ]
  },
  {
   "cell_type": "markdown",
   "metadata": {},
   "source": [
    "## 高级print\n",
    "- 参数 end： 以什么方式结束打印\n",
    "- 默认换行打印"
   ]
  },
  {
   "cell_type": "code",
   "execution_count": 34,
   "metadata": {},
   "outputs": [
    {
     "name": "stdout",
     "output_type": "stream",
     "text": [
      "ab!"
     ]
    }
   ],
   "source": [
    "print('a','b', sep='',end='!')#shift +tab 弹出解释"
   ]
  },
  {
   "cell_type": "markdown",
   "metadata": {},
   "source": [
    "## 函数str\n",
    "- 将类型强制转换成字符串类型\n",
    "- 其他一些以后会学到(list,set,tuple...)"
   ]
  },
  {
   "cell_type": "code",
   "execution_count": 5,
   "metadata": {},
   "outputs": [
    {
     "data": {
      "text/plain": [
       "'true'"
      ]
     },
     "execution_count": 5,
     "metadata": {},
     "output_type": "execute_result"
    }
   ],
   "source": [
    "str('true')"
   ]
  },
  {
   "cell_type": "markdown",
   "metadata": {},
   "source": [
    "## 字符串连接操作\n",
    "- 直接使用 “+” \n",
    "- join() 函数 "
   ]
  },
  {
   "cell_type": "code",
   "execution_count": 6,
   "metadata": {},
   "outputs": [
    {
     "data": {
      "text/plain": [
       "'ab'"
      ]
     },
     "execution_count": 6,
     "metadata": {},
     "output_type": "execute_result"
    }
   ],
   "source": [
    "'a' + 'b'"
   ]
  },
  {
   "cell_type": "code",
   "execution_count": 8,
   "metadata": {},
   "outputs": [
    {
     "data": {
      "text/plain": [
       "'a! b! c'"
      ]
     },
     "execution_count": 8,
     "metadata": {},
     "output_type": "execute_result"
    }
   ],
   "source": [
    "'! ' .join('abc')"
   ]
  },
  {
   "cell_type": "code",
   "execution_count": 5,
   "metadata": {},
   "outputs": [
    {
     "name": "stdout",
     "output_type": "stream",
     "text": [
      "http://www...../page1\n",
      "http://www...../page2\n",
      "http://www...../page3\n",
      "http://www...../page4\n",
      "http://www...../page5\n",
      "http://www...../page6\n",
      "http://www...../page7\n",
      "http://www...../page8\n",
      "http://www...../page9\n",
      "http://www...../page10\n",
      "http://www...../page11\n",
      "http://www...../page12\n",
      "http://www...../page13\n",
      "http://www...../page14\n",
      "http://www...../page15\n",
      "http://www...../page16\n",
      "http://www...../page17\n",
      "http://www...../page18\n",
      "http://www...../page19\n",
      "http://www...../page20\n",
      "http://www...../page21\n",
      "http://www...../page22\n",
      "http://www...../page23\n",
      "http://www...../page24\n",
      "http://www...../page25\n",
      "http://www...../page26\n",
      "http://www...../page27\n",
      "http://www...../page28\n",
      "http://www...../page29\n",
      "http://www...../page30\n",
      "http://www...../page31\n",
      "http://www...../page32\n",
      "http://www...../page33\n",
      "http://www...../page34\n",
      "http://www...../page35\n",
      "http://www...../page36\n",
      "http://www...../page37\n",
      "http://www...../page38\n",
      "http://www...../page39\n",
      "http://www...../page40\n",
      "http://www...../page41\n",
      "http://www...../page42\n",
      "http://www...../page43\n",
      "http://www...../page44\n",
      "http://www...../page45\n",
      "http://www...../page46\n",
      "http://www...../page47\n",
      "http://www...../page48\n",
      "http://www...../page49\n",
      "http://www...../page50\n",
      "http://www...../page51\n",
      "http://www...../page52\n",
      "http://www...../page53\n",
      "http://www...../page54\n",
      "http://www...../page55\n",
      "http://www...../page56\n",
      "http://www...../page57\n",
      "http://www...../page58\n",
      "http://www...../page59\n",
      "http://www...../page60\n",
      "http://www...../page61\n",
      "http://www...../page62\n",
      "http://www...../page63\n",
      "http://www...../page64\n",
      "http://www...../page65\n",
      "http://www...../page66\n",
      "http://www...../page67\n",
      "http://www...../page68\n",
      "http://www...../page69\n",
      "http://www...../page70\n",
      "http://www...../page71\n",
      "http://www...../page72\n",
      "http://www...../page73\n",
      "http://www...../page74\n",
      "http://www...../page75\n",
      "http://www...../page76\n",
      "http://www...../page77\n",
      "http://www...../page78\n",
      "http://www...../page79\n",
      "http://www...../page80\n",
      "http://www...../page81\n",
      "http://www...../page82\n",
      "http://www...../page83\n",
      "http://www...../page84\n",
      "http://www...../page85\n",
      "http://www...../page86\n",
      "http://www...../page87\n",
      "http://www...../page88\n",
      "http://www...../page89\n",
      "http://www...../page90\n",
      "http://www...../page91\n",
      "http://www...../page92\n",
      "http://www...../page93\n",
      "http://www...../page94\n",
      "http://www...../page95\n",
      "http://www...../page96\n",
      "http://www...../page97\n",
      "http://www...../page98\n",
      "http://www...../page99\n",
      "http://www...../page100\n"
     ]
    }
   ],
   "source": [
    "for i in range(1,101):\n",
    "    url=''.join(['http://www...../page',str(i)])\n",
    "    print (url)"
   ]
  },
  {
   "cell_type": "markdown",
   "metadata": {},
   "source": [
    "## EP：\n",
    "- 将 “Welcome” “to” \"Python\" 拼接\n",
    "- 将int型 100 与 “joker is a bad man” 拼接\n",
    "- 从控制台读取字符串\n",
    "> 输入一个名字返回夸奖此人"
   ]
  },
  {
   "cell_type": "code",
   "execution_count": 9,
   "metadata": {},
   "outputs": [
    {
     "data": {
      "text/plain": [
       "'welcome to Python'"
      ]
     },
     "execution_count": 9,
     "metadata": {},
     "output_type": "execute_result"
    }
   ],
   "source": [
    "'' .join('welcome to Python')"
   ]
  },
  {
   "cell_type": "code",
   "execution_count": 12,
   "metadata": {
    "scrolled": true
   },
   "outputs": [
    {
     "data": {
      "text/plain": [
       "'100joker is a bad man '"
      ]
     },
     "execution_count": 12,
     "metadata": {},
     "output_type": "execute_result"
    }
   ],
   "source": [
    "str('100') + 'joker is a bad man '"
   ]
  },
  {
   "cell_type": "code",
   "execution_count": 7,
   "metadata": {},
   "outputs": [
    {
     "name": "stdout",
     "output_type": "stream",
     "text": [
      ">>小婊贝\n",
      "小婊贝你真丑\n"
     ]
    }
   ],
   "source": [
    "name = input('>>')\n",
    "print(name , '你真丑',sep='')"
   ]
  },
  {
   "cell_type": "markdown",
   "metadata": {},
   "source": [
    "## 实例研究：最小数量硬币\n",
    "- 开发一个程序，让用户输入总金额，这是一个用美元和美分表示的浮点值，返回一个由美元、两角五分的硬币、一角的硬币、五分硬币、以及美分个数\n",
    "<img src=\"../Photo/22.png\"></img>"
   ]
  },
  {
   "cell_type": "markdown",
   "metadata": {},
   "source": [
    "- Python弱项，对于浮点型的处理并不是很好，但是处理数据的时候使用的是Numpy类型\n",
    "<img src=\"../Photo/23.png\"></img>"
   ]
  },
  {
   "cell_type": "markdown",
   "metadata": {},
   "source": [
    "## id与type\n",
    "- id 查看内存地址，在判断语句中将会使用\n",
    "- type 查看元素类型"
   ]
  },
  {
   "cell_type": "code",
   "execution_count": null,
   "metadata": {},
   "outputs": [],
   "source": [
    "num = 10\n",
    "while num != 0:\n",
    "    num -=0.1\n",
    "    print(num)"
   ]
  },
  {
   "cell_type": "code",
   "execution_count": 14,
   "metadata": {},
   "outputs": [
    {
     "data": {
      "text/plain": [
       "str"
      ]
     },
     "execution_count": 14,
     "metadata": {},
     "output_type": "execute_result"
    }
   ],
   "source": [
    "type('a')\n"
   ]
  },
  {
   "cell_type": "code",
   "execution_count": 15,
   "metadata": {},
   "outputs": [
    {
     "data": {
      "text/plain": [
       "1657153728"
      ]
     },
     "execution_count": 15,
     "metadata": {},
     "output_type": "execute_result"
    }
   ],
   "source": [
    "id(1)"
   ]
  },
  {
   "cell_type": "code",
   "execution_count": 16,
   "metadata": {},
   "outputs": [
    {
     "data": {
      "text/plain": [
       "1657153744"
      ]
     },
     "execution_count": 16,
     "metadata": {},
     "output_type": "execute_result"
    }
   ],
   "source": [
    "id(2)"
   ]
  },
  {
   "cell_type": "markdown",
   "metadata": {},
   "source": [
    "## 其他格式化语句见书"
   ]
  },
  {
   "cell_type": "markdown",
   "metadata": {},
   "source": [
    "# Homework\n",
    "- 1\n",
    "<img src=\"../Photo/24.png\"><img>\n",
    "<img src=\"../Photo/25.png\"><img>"
   ]
  },
  {
   "cell_type": "code",
   "execution_count": 4,
   "metadata": {},
   "outputs": [
    {
     "name": "stdout",
     "output_type": "stream",
     "text": [
      "enter the length from the center to a vertex:5.5\n",
      "The area of the pentagon is 71.9087467008018\n"
     ]
    }
   ],
   "source": [
    "import math\n",
    "PI = 3.14\n",
    "r = eval(input('enter the length from the center to a vertex:'))\n",
    "s = 2 * r * math.sin (PI / 5 )\n",
    "area = 5 * s * s /( 4 * math.tan(PI / 5))\n",
    "print('The area of the pentagon is '+str(area))"
   ]
  },
  {
   "cell_type": "markdown",
   "metadata": {},
   "source": [
    "- 2\n",
    "<img src=\"../Photo/26.png\"><img>"
   ]
  },
  {
   "cell_type": "code",
   "execution_count": 3,
   "metadata": {},
   "outputs": [
    {
     "name": "stdout",
     "output_type": "stream",
     "text": [
      "enter point 1 in degrees:39.55,-116.25\n",
      "enter point 2 in degrees:41.5,87.37\n",
      "The distance between the two points is 10691.79183231593km\n"
     ]
    }
   ],
   "source": [
    "import math\n",
    "x1,y1 = eval(input('enter point 1 in degrees:'))\n",
    "x2,y2 = eval(input('enter point 2 in degrees:'))\n",
    "a = math.radians(x1)\n",
    "b = math.radians(x2)\n",
    "c = math.radians(y1-y2)\n",
    "d = 6371.01 * math.acos(math.sin(a)*math.sin(b) + math.cos(a)*math.cos(b) * math.cos(c))\n",
    "print('The distance between the two points is '+str(d)+ 'km')"
   ]
  },
  {
   "cell_type": "markdown",
   "metadata": {},
   "source": [
    "- 3\n",
    "<img src=\"../Photo/27.png\"><img>"
   ]
  },
  {
   "cell_type": "code",
   "execution_count": 5,
   "metadata": {},
   "outputs": [
    {
     "name": "stdout",
     "output_type": "stream",
     "text": [
      "enter the side:5.5\n",
      "The area of the pentagon is 52.07931842245343\n"
     ]
    }
   ],
   "source": [
    "import math\n",
    "PI = 3.14\n",
    "s = eval(input('enter the side:'))\n",
    "area = 5 * s * s /( 4 * math.tan(PI / 5))\n",
    "print('The area of the pentagon is '+str(area))"
   ]
  },
  {
   "cell_type": "markdown",
   "metadata": {},
   "source": [
    "- 4\n",
    "<img src=\"../Photo/28.png\"><img>"
   ]
  },
  {
   "cell_type": "code",
   "execution_count": 6,
   "metadata": {},
   "outputs": [
    {
     "name": "stdout",
     "output_type": "stream",
     "text": [
      "enter the number of sides: 5\n",
      "enter the side: 6.5\n",
      "The area of the pentagon is 72.73888275532752\n"
     ]
    }
   ],
   "source": [
    "import math\n",
    "PI = 3.14\n",
    "n = eval(input('enter the number of sides: '))\n",
    "s = eval(input('enter the side: '))\n",
    "area = n * s * s / ( 4 * math.tan (PI / n ))\n",
    "print('The area of the pentagon is '+str(area))"
   ]
  },
  {
   "cell_type": "markdown",
   "metadata": {},
   "source": [
    "- 5\n",
    "<img src=\"../Photo/29.png\"><img>\n",
    "<img src=\"../Photo/30.png\"><img>"
   ]
  },
  {
   "cell_type": "code",
   "execution_count": 2,
   "metadata": {},
   "outputs": [
    {
     "name": "stdout",
     "output_type": "stream",
     "text": [
      "enter an ASCII code: 69\n",
      "The character is E\n"
     ]
    }
   ],
   "source": [
    "n = eval(input('enter an ASCII code: '))\n",
    "print('The character is '+chr(n))"
   ]
  },
  {
   "cell_type": "markdown",
   "metadata": {},
   "source": [
    "- 6\n",
    "<img src=\"../Photo/31.png\"><img>"
   ]
  },
  {
   "cell_type": "code",
   "execution_count": 2,
   "metadata": {},
   "outputs": [
    {
     "name": "stdout",
     "output_type": "stream",
     "text": [
      "雇员姓名:smith\n",
      "一周工作时间:10\n",
      "每小时报酬:9.75\n",
      "联邦预扣税率:0.2\n",
      "州扣税率:0.09\n",
      "Employee name:smith\n",
      "Hours worked:10\n",
      "Pay rate: $9.75\n",
      "Cross pay: $97.5\n",
      "Deductions:\n",
      "  Federal withholding(20.0%):19.5\n",
      "  State withholding(9.0%):8.775\n",
      "  Total Deduction:28.275\n",
      "Net pay: $69.225\n"
     ]
    }
   ],
   "source": [
    "name = input('雇员姓名:')\n",
    "hours = eval(input('一周工作时间:'))\n",
    "rate = eval(input('每小时报酬:'))\n",
    "federal = eval(input('联邦预扣税率:'))\n",
    "state = eval(input('州扣税率:'))\n",
    "cross = hours * rate\n",
    "fw = hours * rate * 0.2\n",
    "sw = hours * rate * 0.09\n",
    "td = hours * rate * 0.2 + hours * rate * 0.09\n",
    "np=cross - td\n",
    "print ('Employee name:'+ str(name))\n",
    "print ('Hours worked:'+ str(hours))\n",
    "print ('Pay rate: $'+ str(rate))\n",
    "print ('Cross pay: $'+ str(cross))\n",
    "print ('Deductions:')\n",
    "print ('  Federal withholding(20.0%):'+ str(fw))\n",
    "print ('  State withholding(9.0%):'+ str(sw))\n",
    "print ('  Total Deduction:'+ str(td))\n",
    "print ('Net pay: $'+ str(np))"
   ]
  },
  {
   "cell_type": "markdown",
   "metadata": {},
   "source": [
    "- 7\n",
    "<img src=\"../Photo/32.png\"><img>"
   ]
  },
  {
   "cell_type": "code",
   "execution_count": 1,
   "metadata": {},
   "outputs": [
    {
     "name": "stdout",
     "output_type": "stream",
     "text": [
      "Enter an integer：3125\n",
      "5213\n"
     ]
    }
   ],
   "source": [
    "num = eval(input('Enter an integer：'))\n",
    "a = num % 10\n",
    "b = num //10 % 10\n",
    "c = num //100 % 10\n",
    "d = num //1000\n",
    "print(str(a)+str(b)+str(c)+str(d))"
   ]
  },
  {
   "cell_type": "markdown",
   "metadata": {},
   "source": [
    "- 8 进阶：\n",
    "> 加密一串文本，并将解密后的文件写入本地保存"
   ]
  },
  {
   "cell_type": "code",
   "execution_count": 19,
   "metadata": {},
   "outputs": [
    {
     "name": "stdout",
     "output_type": "stream",
     "text": [
      "请输入文本：hello\n",
      "存入成功\n"
     ]
    }
   ],
   "source": [
    "import hashlib\n",
    "str_ =  input('请输入文本：')\n",
    "h1 = hashlib.md5()\n",
    "h1.update(str_.encode(encoding='utf-8'))\n",
    "\n",
    "file = h1.hexdigest()\n",
    "file_handle=open('../2.txt',mode='w')\n",
    "file_handle.write(file)\n",
    "file_handle.close()\n",
    "print('存入成功')"
   ]
  }
 ],
 "metadata": {
  "kernelspec": {
   "display_name": "Python 3",
   "language": "python",
   "name": "python3"
  },
  "language_info": {
   "codemirror_mode": {
    "name": "ipython",
    "version": 3
   },
   "file_extension": ".py",
   "mimetype": "text/x-python",
   "name": "python",
   "nbconvert_exporter": "python",
   "pygments_lexer": "ipython3",
   "version": "3.6.4"
  }
 },
 "nbformat": 4,
 "nbformat_minor": 2
}
